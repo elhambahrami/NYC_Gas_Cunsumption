{
 "cells": [
  {
   "cell_type": "markdown",
   "metadata": {},
   "source": [
    "### Elham Bahrami\n",
    "### 10/08/2019"
   ]
  },
  {
   "cell_type": "code",
   "execution_count": 102,
   "metadata": {},
   "outputs": [],
   "source": [
    "import numpy as np\n",
    "import pandas as pd"
   ]
  },
  {
   "cell_type": "markdown",
   "metadata": {},
   "source": [
    "### We are working with a dataset that includes gas consumption in New York City.<br>Let's see what we have in the dataset"
   ]
  },
  {
   "cell_type": "code",
   "execution_count": 103,
   "metadata": {},
   "outputs": [],
   "source": [
    "nyc_gas =  pd.read_csv(\"https://data.cityofnewyork.us/api/views/uedp-fegm/rows.csv?accessType=DOWNLOAD\")"
   ]
  },
  {
   "cell_type": "code",
   "execution_count": 104,
   "metadata": {},
   "outputs": [
    {
     "data": {
      "text/plain": [
       "(1015, 5)"
      ]
     },
     "execution_count": 104,
     "metadata": {},
     "output_type": "execute_result"
    }
   ],
   "source": [
    "#Size of the dataset\n",
    "nyc_gas.shape"
   ]
  },
  {
   "cell_type": "code",
   "execution_count": 105,
   "metadata": {},
   "outputs": [
    {
     "data": {
      "text/html": [
       "<div>\n",
       "<style scoped>\n",
       "    .dataframe tbody tr th:only-of-type {\n",
       "        vertical-align: middle;\n",
       "    }\n",
       "\n",
       "    .dataframe tbody tr th {\n",
       "        vertical-align: top;\n",
       "    }\n",
       "\n",
       "    .dataframe thead th {\n",
       "        text-align: right;\n",
       "    }\n",
       "</style>\n",
       "<table border=\"1\" class=\"dataframe\">\n",
       "  <thead>\n",
       "    <tr style=\"text-align: right;\">\n",
       "      <th></th>\n",
       "      <th>Zip Code</th>\n",
       "      <th>Building type (service class</th>\n",
       "      <th>Consumption (therms)</th>\n",
       "      <th>Consumption (GJ)</th>\n",
       "      <th>Utility/Data Source</th>\n",
       "    </tr>\n",
       "  </thead>\n",
       "  <tbody>\n",
       "    <tr>\n",
       "      <th>0</th>\n",
       "      <td>10300</td>\n",
       "      <td>Commercial</td>\n",
       "      <td>470.0</td>\n",
       "      <td>50.0</td>\n",
       "      <td>National Grid</td>\n",
       "    </tr>\n",
       "    <tr>\n",
       "      <th>1</th>\n",
       "      <td>10335</td>\n",
       "      <td>Commercial</td>\n",
       "      <td>647.0</td>\n",
       "      <td>68.0</td>\n",
       "      <td>National Grid</td>\n",
       "    </tr>\n",
       "    <tr>\n",
       "      <th>2</th>\n",
       "      <td>10360</td>\n",
       "      <td>Large residential</td>\n",
       "      <td>33762.0</td>\n",
       "      <td>3562.0</td>\n",
       "      <td>National Grid</td>\n",
       "    </tr>\n",
       "    <tr>\n",
       "      <th>3</th>\n",
       "      <td>11200</td>\n",
       "      <td>Commercial</td>\n",
       "      <td>32125.0</td>\n",
       "      <td>3389.0</td>\n",
       "      <td>National Grid</td>\n",
       "    </tr>\n",
       "    <tr>\n",
       "      <th>4</th>\n",
       "      <td>11200</td>\n",
       "      <td>Institutional</td>\n",
       "      <td>3605.0</td>\n",
       "      <td>380.0</td>\n",
       "      <td>National Grid</td>\n",
       "    </tr>\n",
       "  </tbody>\n",
       "</table>\n",
       "</div>"
      ],
      "text/plain": [
       "  Zip Code Building type (service class   Consumption (therms)   \\\n",
       "0    10300                   Commercial                   470.0   \n",
       "1    10335                   Commercial                   647.0   \n",
       "2    10360            Large residential                 33762.0   \n",
       "3    11200                   Commercial                 32125.0   \n",
       "4    11200                Institutional                  3605.0   \n",
       "\n",
       "    Consumption (GJ)  Utility/Data Source  \n",
       "0                50.0       National Grid  \n",
       "1                68.0       National Grid  \n",
       "2              3562.0       National Grid  \n",
       "3              3389.0       National Grid  \n",
       "4               380.0       National Grid  "
      ]
     },
     "execution_count": 105,
     "metadata": {},
     "output_type": "execute_result"
    }
   ],
   "source": [
    "nyc_gas.head()"
   ]
  },
  {
   "cell_type": "markdown",
   "metadata": {},
   "source": [
    "### It seems there are something wierd with name of one of the columns(Buliding type(service class"
   ]
  },
  {
   "cell_type": "code",
   "execution_count": 106,
   "metadata": {},
   "outputs": [
    {
     "data": {
      "text/plain": [
       "Index(['Zip Code', 'Building type (service class', ' Consumption (therms) ',\n",
       "       ' Consumption (GJ) ', 'Utility/Data Source'],\n",
       "      dtype='object')"
      ]
     },
     "execution_count": 106,
     "metadata": {},
     "output_type": "execute_result"
    }
   ],
   "source": [
    "nyc_gas.columns"
   ]
  },
  {
   "cell_type": "code",
   "execution_count": 107,
   "metadata": {},
   "outputs": [],
   "source": [
    "#changing name of column; Building type(service class to Service Type\n",
    "nyc_gas= nyc_gas.rename(columns={'Building type (service class':'Building_Type', ' Consumption (GJ) ':'Consumption_GJ',\n",
    "                                ' Consumption (therms) ':'Consumption_therms'})"
   ]
  },
  {
   "cell_type": "code",
   "execution_count": 108,
   "metadata": {},
   "outputs": [
    {
     "data": {
      "text/html": [
       "<div>\n",
       "<style scoped>\n",
       "    .dataframe tbody tr th:only-of-type {\n",
       "        vertical-align: middle;\n",
       "    }\n",
       "\n",
       "    .dataframe tbody tr th {\n",
       "        vertical-align: top;\n",
       "    }\n",
       "\n",
       "    .dataframe thead th {\n",
       "        text-align: right;\n",
       "    }\n",
       "</style>\n",
       "<table border=\"1\" class=\"dataframe\">\n",
       "  <thead>\n",
       "    <tr style=\"text-align: right;\">\n",
       "      <th></th>\n",
       "      <th>Zip Code</th>\n",
       "      <th>Building_Type</th>\n",
       "      <th>Consumption_therms</th>\n",
       "      <th>Consumption_GJ</th>\n",
       "      <th>Utility/Data Source</th>\n",
       "    </tr>\n",
       "  </thead>\n",
       "  <tbody>\n",
       "    <tr>\n",
       "      <th>0</th>\n",
       "      <td>10300</td>\n",
       "      <td>Commercial</td>\n",
       "      <td>470.0</td>\n",
       "      <td>50.0</td>\n",
       "      <td>National Grid</td>\n",
       "    </tr>\n",
       "    <tr>\n",
       "      <th>1</th>\n",
       "      <td>10335</td>\n",
       "      <td>Commercial</td>\n",
       "      <td>647.0</td>\n",
       "      <td>68.0</td>\n",
       "      <td>National Grid</td>\n",
       "    </tr>\n",
       "    <tr>\n",
       "      <th>2</th>\n",
       "      <td>10360</td>\n",
       "      <td>Large residential</td>\n",
       "      <td>33762.0</td>\n",
       "      <td>3562.0</td>\n",
       "      <td>National Grid</td>\n",
       "    </tr>\n",
       "    <tr>\n",
       "      <th>3</th>\n",
       "      <td>11200</td>\n",
       "      <td>Commercial</td>\n",
       "      <td>32125.0</td>\n",
       "      <td>3389.0</td>\n",
       "      <td>National Grid</td>\n",
       "    </tr>\n",
       "    <tr>\n",
       "      <th>4</th>\n",
       "      <td>11200</td>\n",
       "      <td>Institutional</td>\n",
       "      <td>3605.0</td>\n",
       "      <td>380.0</td>\n",
       "      <td>National Grid</td>\n",
       "    </tr>\n",
       "  </tbody>\n",
       "</table>\n",
       "</div>"
      ],
      "text/plain": [
       "  Zip Code      Building_Type  Consumption_therms  Consumption_GJ  \\\n",
       "0    10300         Commercial               470.0            50.0   \n",
       "1    10335         Commercial               647.0            68.0   \n",
       "2    10360  Large residential             33762.0          3562.0   \n",
       "3    11200         Commercial             32125.0          3389.0   \n",
       "4    11200      Institutional              3605.0           380.0   \n",
       "\n",
       "  Utility/Data Source  \n",
       "0       National Grid  \n",
       "1       National Grid  \n",
       "2       National Grid  \n",
       "3       National Grid  \n",
       "4       National Grid  "
      ]
     },
     "execution_count": 108,
     "metadata": {},
     "output_type": "execute_result"
    }
   ],
   "source": [
    "nyc_gas.head()"
   ]
  },
  {
   "cell_type": "code",
   "execution_count": 109,
   "metadata": {},
   "outputs": [
    {
     "name": "stdout",
     "output_type": "stream",
     "text": [
      "<class 'pandas.core.frame.DataFrame'>\n",
      "RangeIndex: 1015 entries, 0 to 1014\n",
      "Data columns (total 5 columns):\n",
      "Zip Code               1015 non-null object\n",
      "Building_Type          1015 non-null object\n",
      "Consumption_therms     1005 non-null float64\n",
      "Consumption_GJ         1005 non-null float64\n",
      "Utility/Data Source    1015 non-null object\n",
      "dtypes: float64(2), object(3)\n",
      "memory usage: 39.7+ KB\n"
     ]
    }
   ],
   "source": [
    "nyc_gas.info()"
   ]
  },
  {
   "cell_type": "code",
   "execution_count": 111,
   "metadata": {},
   "outputs": [
    {
     "data": {
      "text/plain": [
       "array(['Commercial', 'Large residential', 'Institutional',\n",
       "       'Small residential', 'Industrial', 'Large Residential',\n",
       "       'Residential'], dtype=object)"
      ]
     },
     "execution_count": 111,
     "metadata": {},
     "output_type": "execute_result"
    }
   ],
   "source": [
    "#Number of distinct Building Type\n",
    "nyc_gas['Building_Type'].unique()"
   ]
  },
  {
   "cell_type": "code",
   "execution_count": 112,
   "metadata": {},
   "outputs": [
    {
     "data": {
      "text/plain": [
       "7"
      ]
     },
     "execution_count": 112,
     "metadata": {},
     "output_type": "execute_result"
    }
   ],
   "source": [
    "len(nyc_gas['Building_Type'].unique())"
   ]
  },
  {
   "cell_type": "markdown",
   "metadata": {},
   "source": [
    "### 'Large Residential' and 'Large residential' should be combined because of the mistake in type of 'r' letter in 'Large residential'"
   ]
  },
  {
   "cell_type": "code",
   "execution_count": 113,
   "metadata": {},
   "outputs": [],
   "source": [
    "nyc_gas = nyc_gas.replace({'Building_Type':'Large residential'}, {'Building_Type':'Large Residential'}, regex=True)"
   ]
  },
  {
   "cell_type": "code",
   "execution_count": 114,
   "metadata": {},
   "outputs": [
    {
     "data": {
      "text/plain": [
       "array(['Commercial', 'Large Residential', 'Institutional',\n",
       "       'Small residential', 'Industrial', 'Residential'], dtype=object)"
      ]
     },
     "execution_count": 114,
     "metadata": {},
     "output_type": "execute_result"
    }
   ],
   "source": [
    "nyc_gas['Building_Type'].unique()"
   ]
  },
  {
   "cell_type": "code",
   "execution_count": 115,
   "metadata": {},
   "outputs": [
    {
     "data": {
      "text/html": [
       "<div>\n",
       "<style scoped>\n",
       "    .dataframe tbody tr th:only-of-type {\n",
       "        vertical-align: middle;\n",
       "    }\n",
       "\n",
       "    .dataframe tbody tr th {\n",
       "        vertical-align: top;\n",
       "    }\n",
       "\n",
       "    .dataframe thead th {\n",
       "        text-align: right;\n",
       "    }\n",
       "</style>\n",
       "<table border=\"1\" class=\"dataframe\">\n",
       "  <thead>\n",
       "    <tr style=\"text-align: right;\">\n",
       "      <th></th>\n",
       "      <th>Consumption_therms</th>\n",
       "      <th>Consumption_GJ</th>\n",
       "    </tr>\n",
       "    <tr>\n",
       "      <th>Building_Type</th>\n",
       "      <th></th>\n",
       "      <th></th>\n",
       "    </tr>\n",
       "  </thead>\n",
       "  <tbody>\n",
       "    <tr>\n",
       "      <th>Commercial</th>\n",
       "      <td>1795291.0</td>\n",
       "      <td>189413.0</td>\n",
       "    </tr>\n",
       "    <tr>\n",
       "      <th>Industrial</th>\n",
       "      <td>159872.5</td>\n",
       "      <td>16867.5</td>\n",
       "    </tr>\n",
       "    <tr>\n",
       "      <th>Institutional</th>\n",
       "      <td>625816.0</td>\n",
       "      <td>66027.0</td>\n",
       "    </tr>\n",
       "    <tr>\n",
       "      <th>Large Residential</th>\n",
       "      <td>1525604.5</td>\n",
       "      <td>160960.0</td>\n",
       "    </tr>\n",
       "    <tr>\n",
       "      <th>Residential</th>\n",
       "      <td>505076.0</td>\n",
       "      <td>53288.5</td>\n",
       "    </tr>\n",
       "    <tr>\n",
       "      <th>Small residential</th>\n",
       "      <td>5683111.5</td>\n",
       "      <td>599600.0</td>\n",
       "    </tr>\n",
       "  </tbody>\n",
       "</table>\n",
       "</div>"
      ],
      "text/plain": [
       "                   Consumption_therms  Consumption_GJ\n",
       "Building_Type                                        \n",
       "Commercial                  1795291.0        189413.0\n",
       "Industrial                   159872.5         16867.5\n",
       "Institutional                625816.0         66027.0\n",
       "Large Residential           1525604.5        160960.0\n",
       "Residential                  505076.0         53288.5\n",
       "Small residential           5683111.5        599600.0"
      ]
     },
     "execution_count": 115,
     "metadata": {},
     "output_type": "execute_result"
    }
   ],
   "source": [
    "#Median of consumption for each type of building\n",
    "nyc_gas_median = nyc_gas.groupby('Building_Type').agg('median')\n",
    "nyc_gas_median"
   ]
  },
  {
   "cell_type": "code",
   "execution_count": 125,
   "metadata": {},
   "outputs": [
    {
     "name": "stdout",
     "output_type": "stream",
     "text": [
      "599600.0\n",
      "16867.5\n"
     ]
    }
   ],
   "source": [
    "print(nyc_gas_median['Consumption_GJ'].max())\n",
    "print(nyc_gas_median['Consumption_GJ'].min())"
   ]
  },
  {
   "cell_type": "markdown",
   "metadata": {},
   "source": [
    "### Small residential has the maximum and Industrial has the minimum of cunsumption_GJ<br> Small residential's consumption is surprising!"
   ]
  },
  {
   "cell_type": "code",
   "execution_count": 126,
   "metadata": {},
   "outputs": [
    {
     "data": {
      "text/plain": [
       "array(['National Grid', 'ConEd'], dtype=object)"
      ]
     },
     "execution_count": 126,
     "metadata": {},
     "output_type": "execute_result"
    }
   ],
   "source": [
    "#Distinct type of Utility\n",
    "nyc_gas['Utility/Data Source'].unique()"
   ]
  },
  {
   "cell_type": "code",
   "execution_count": 127,
   "metadata": {},
   "outputs": [],
   "source": [
    "#Mean and Standar deviation of each utility type\n",
    "nyc_gas_mean_std = nyc_gas.groupby('Utility/Data Source').agg(['mean','std'])"
   ]
  },
  {
   "cell_type": "code",
   "execution_count": 128,
   "metadata": {},
   "outputs": [
    {
     "data": {
      "text/html": [
       "<div>\n",
       "<style scoped>\n",
       "    .dataframe tbody tr th:only-of-type {\n",
       "        vertical-align: middle;\n",
       "    }\n",
       "\n",
       "    .dataframe tbody tr th {\n",
       "        vertical-align: top;\n",
       "    }\n",
       "\n",
       "    .dataframe thead tr th {\n",
       "        text-align: left;\n",
       "    }\n",
       "\n",
       "    .dataframe thead tr:last-of-type th {\n",
       "        text-align: right;\n",
       "    }\n",
       "</style>\n",
       "<table border=\"1\" class=\"dataframe\">\n",
       "  <thead>\n",
       "    <tr>\n",
       "      <th></th>\n",
       "      <th colspan=\"2\" halign=\"left\">Consumption_therms</th>\n",
       "      <th colspan=\"2\" halign=\"left\">Consumption_GJ</th>\n",
       "    </tr>\n",
       "    <tr>\n",
       "      <th></th>\n",
       "      <th>mean</th>\n",
       "      <th>std</th>\n",
       "      <th>mean</th>\n",
       "      <th>std</th>\n",
       "    </tr>\n",
       "    <tr>\n",
       "      <th>Utility/Data Source</th>\n",
       "      <th></th>\n",
       "      <th></th>\n",
       "      <th></th>\n",
       "      <th></th>\n",
       "    </tr>\n",
       "  </thead>\n",
       "  <tbody>\n",
       "    <tr>\n",
       "      <th>ConEd</th>\n",
       "      <td>2.128567e+06</td>\n",
       "      <td>2.833575e+06</td>\n",
       "      <td>224575.750491</td>\n",
       "      <td>298958.048808</td>\n",
       "    </tr>\n",
       "    <tr>\n",
       "      <th>National Grid</th>\n",
       "      <td>3.388214e+06</td>\n",
       "      <td>5.330099e+06</td>\n",
       "      <td>357475.560484</td>\n",
       "      <td>562355.273624</td>\n",
       "    </tr>\n",
       "  </tbody>\n",
       "</table>\n",
       "</div>"
      ],
      "text/plain": [
       "                    Consumption_therms               Consumption_GJ  \\\n",
       "                                  mean           std           mean   \n",
       "Utility/Data Source                                                   \n",
       "ConEd                     2.128567e+06  2.833575e+06  224575.750491   \n",
       "National Grid             3.388214e+06  5.330099e+06  357475.560484   \n",
       "\n",
       "                                    \n",
       "                               std  \n",
       "Utility/Data Source                 \n",
       "ConEd                298958.048808  \n",
       "National Grid        562355.273624  "
      ]
     },
     "execution_count": 128,
     "metadata": {},
     "output_type": "execute_result"
    }
   ],
   "source": [
    "nyc_gas_mean_std"
   ]
  },
  {
   "cell_type": "markdown",
   "metadata": {},
   "source": [
    "### It is better to mention the masurement unit of Consumption_therm and Consumption_GJ to meake it better for the reader to underestand."
   ]
  },
  {
   "cell_type": "code",
   "execution_count": null,
   "metadata": {},
   "outputs": [],
   "source": []
  }
 ],
 "metadata": {
  "kernelspec": {
   "display_name": "Python 3",
   "language": "python",
   "name": "python3"
  },
  "language_info": {
   "codemirror_mode": {
    "name": "ipython",
    "version": 3
   },
   "file_extension": ".py",
   "mimetype": "text/x-python",
   "name": "python",
   "nbconvert_exporter": "python",
   "pygments_lexer": "ipython3",
   "version": "3.7.2"
  }
 },
 "nbformat": 4,
 "nbformat_minor": 2
}
